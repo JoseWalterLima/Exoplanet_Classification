{
  "nbformat": 4,
  "nbformat_minor": 0,
  "metadata": {
    "colab": {
      "name": "Exoplanetas.ipynb",
      "provenance": [],
      "authorship_tag": "ABX9TyPa0VGJlGm8OYxszQWImE50"
    },
    "kernelspec": {
      "name": "python3",
      "display_name": "Python 3"
    },
    "language_info": {
      "name": "python"
    }
  },
  "cells": [
    {
      "cell_type": "markdown",
      "metadata": {
        "id": "e0eiFL_8LInI"
      },
      "source": [
        "## Tratamento da base"
      ]
    },
    {
      "cell_type": "code",
      "metadata": {
        "colab": {
          "base_uri": "https://localhost:8080/",
          "height": 223
        },
        "id": "nKJlz80zBjTg",
        "outputId": "2ce36da8-f953-416c-8624-8306312be6d8"
      },
      "source": [
        "# Criar a base de dados que será utilizada para ajustar os modelos\n",
        "import pandas as pd\n",
        "df = pd.read_csv('koi_data.csv')\n",
        "df.head()"
      ],
      "execution_count": null,
      "outputs": [
        {
          "output_type": "execute_result",
          "data": {
            "text/html": [
              "<div>\n",
              "<style scoped>\n",
              "    .dataframe tbody tr th:only-of-type {\n",
              "        vertical-align: middle;\n",
              "    }\n",
              "\n",
              "    .dataframe tbody tr th {\n",
              "        vertical-align: top;\n",
              "    }\n",
              "\n",
              "    .dataframe thead th {\n",
              "        text-align: right;\n",
              "    }\n",
              "</style>\n",
              "<table border=\"1\" class=\"dataframe\">\n",
              "  <thead>\n",
              "    <tr style=\"text-align: right;\">\n",
              "      <th></th>\n",
              "      <th>kepoi_name</th>\n",
              "      <th>koi_disposition</th>\n",
              "      <th>koi_period</th>\n",
              "      <th>koi_impact</th>\n",
              "      <th>koi_duration</th>\n",
              "      <th>koi_depth</th>\n",
              "      <th>koi_ror</th>\n",
              "      <th>koi_srho</th>\n",
              "      <th>koi_prad</th>\n",
              "      <th>koi_sma</th>\n",
              "      <th>koi_incl</th>\n",
              "      <th>koi_teq</th>\n",
              "      <th>koi_insol</th>\n",
              "      <th>koi_dor</th>\n",
              "      <th>koi_max_sngle_ev</th>\n",
              "      <th>koi_max_mult_ev</th>\n",
              "      <th>koi_model_snr</th>\n",
              "      <th>koi_steff</th>\n",
              "      <th>koi_slogg</th>\n",
              "      <th>koi_smet</th>\n",
              "      <th>koi_srad</th>\n",
              "      <th>koi_smass</th>\n",
              "      <th>koi_kepmag</th>\n",
              "      <th>koi_gmag</th>\n",
              "      <th>koi_rmag</th>\n",
              "      <th>koi_imag</th>\n",
              "      <th>koi_zmag</th>\n",
              "      <th>koi_jmag</th>\n",
              "      <th>koi_hmag</th>\n",
              "      <th>koi_kmag</th>\n",
              "      <th>koi_fwm_stat_sig</th>\n",
              "      <th>koi_fwm_sra</th>\n",
              "      <th>koi_fwm_sdec</th>\n",
              "      <th>koi_fwm_srao</th>\n",
              "      <th>koi_fwm_sdeco</th>\n",
              "      <th>koi_fwm_prao</th>\n",
              "      <th>koi_fwm_pdeco</th>\n",
              "      <th>koi_dicco_mra</th>\n",
              "      <th>koi_dicco_mdec</th>\n",
              "      <th>koi_dicco_msky</th>\n",
              "      <th>koi_dikco_mra</th>\n",
              "      <th>koi_dikco_mdec</th>\n",
              "      <th>koi_dikco_msky</th>\n",
              "    </tr>\n",
              "  </thead>\n",
              "  <tbody>\n",
              "    <tr>\n",
              "      <th>0</th>\n",
              "      <td>K00752.01</td>\n",
              "      <td>CONFIRMED</td>\n",
              "      <td>9.48804</td>\n",
              "      <td>0.146</td>\n",
              "      <td>2.95750</td>\n",
              "      <td>615.8</td>\n",
              "      <td>0.02234</td>\n",
              "      <td>3.20796</td>\n",
              "      <td>2.26</td>\n",
              "      <td>0.0853</td>\n",
              "      <td>89.66</td>\n",
              "      <td>793.0</td>\n",
              "      <td>93.59</td>\n",
              "      <td>24.810</td>\n",
              "      <td>5.13585</td>\n",
              "      <td>28.47082</td>\n",
              "      <td>35.8</td>\n",
              "      <td>5455.0</td>\n",
              "      <td>4.467</td>\n",
              "      <td>0.14</td>\n",
              "      <td>0.927</td>\n",
              "      <td>0.919</td>\n",
              "      <td>15.347</td>\n",
              "      <td>15.890</td>\n",
              "      <td>15.270</td>\n",
              "      <td>15.114</td>\n",
              "      <td>15.006</td>\n",
              "      <td>14.082</td>\n",
              "      <td>13.751</td>\n",
              "      <td>13.648</td>\n",
              "      <td>0.002</td>\n",
              "      <td>19.46229</td>\n",
              "      <td>48.14191</td>\n",
              "      <td>0.430</td>\n",
              "      <td>0.940</td>\n",
              "      <td>-0.00020</td>\n",
              "      <td>-0.00055</td>\n",
              "      <td>-0.010</td>\n",
              "      <td>0.200</td>\n",
              "      <td>0.200</td>\n",
              "      <td>0.080</td>\n",
              "      <td>0.310</td>\n",
              "      <td>0.320</td>\n",
              "    </tr>\n",
              "    <tr>\n",
              "      <th>1</th>\n",
              "      <td>K00752.02</td>\n",
              "      <td>CONFIRMED</td>\n",
              "      <td>54.41838</td>\n",
              "      <td>0.586</td>\n",
              "      <td>4.50700</td>\n",
              "      <td>874.8</td>\n",
              "      <td>0.02795</td>\n",
              "      <td>3.02368</td>\n",
              "      <td>2.83</td>\n",
              "      <td>0.2734</td>\n",
              "      <td>89.57</td>\n",
              "      <td>443.0</td>\n",
              "      <td>9.11</td>\n",
              "      <td>77.900</td>\n",
              "      <td>7.02767</td>\n",
              "      <td>20.10951</td>\n",
              "      <td>25.8</td>\n",
              "      <td>5455.0</td>\n",
              "      <td>4.467</td>\n",
              "      <td>0.14</td>\n",
              "      <td>0.927</td>\n",
              "      <td>0.919</td>\n",
              "      <td>15.347</td>\n",
              "      <td>15.890</td>\n",
              "      <td>15.270</td>\n",
              "      <td>15.114</td>\n",
              "      <td>15.006</td>\n",
              "      <td>14.082</td>\n",
              "      <td>13.751</td>\n",
              "      <td>13.648</td>\n",
              "      <td>0.003</td>\n",
              "      <td>19.46226</td>\n",
              "      <td>48.14199</td>\n",
              "      <td>-0.630</td>\n",
              "      <td>1.230</td>\n",
              "      <td>0.00066</td>\n",
              "      <td>-0.00105</td>\n",
              "      <td>0.390</td>\n",
              "      <td>0.000</td>\n",
              "      <td>0.390</td>\n",
              "      <td>0.490</td>\n",
              "      <td>0.120</td>\n",
              "      <td>0.500</td>\n",
              "    </tr>\n",
              "    <tr>\n",
              "      <th>2</th>\n",
              "      <td>K00754.01</td>\n",
              "      <td>FALSE POSITIVE</td>\n",
              "      <td>1.73695</td>\n",
              "      <td>1.276</td>\n",
              "      <td>2.40641</td>\n",
              "      <td>8079.2</td>\n",
              "      <td>0.38739</td>\n",
              "      <td>0.22080</td>\n",
              "      <td>33.46</td>\n",
              "      <td>0.0267</td>\n",
              "      <td>67.09</td>\n",
              "      <td>1395.0</td>\n",
              "      <td>891.96</td>\n",
              "      <td>3.278</td>\n",
              "      <td>39.06655</td>\n",
              "      <td>541.89510</td>\n",
              "      <td>505.6</td>\n",
              "      <td>5805.0</td>\n",
              "      <td>4.564</td>\n",
              "      <td>-0.52</td>\n",
              "      <td>0.791</td>\n",
              "      <td>0.836</td>\n",
              "      <td>15.597</td>\n",
              "      <td>16.100</td>\n",
              "      <td>15.554</td>\n",
              "      <td>15.382</td>\n",
              "      <td>15.266</td>\n",
              "      <td>14.326</td>\n",
              "      <td>13.911</td>\n",
              "      <td>13.809</td>\n",
              "      <td>0.000</td>\n",
              "      <td>19.03564</td>\n",
              "      <td>48.28521</td>\n",
              "      <td>-0.111</td>\n",
              "      <td>0.002</td>\n",
              "      <td>0.00302</td>\n",
              "      <td>-0.00142</td>\n",
              "      <td>-0.249</td>\n",
              "      <td>0.147</td>\n",
              "      <td>0.289</td>\n",
              "      <td>-0.257</td>\n",
              "      <td>0.099</td>\n",
              "      <td>0.276</td>\n",
              "    </tr>\n",
              "    <tr>\n",
              "      <th>3</th>\n",
              "      <td>K00755.01</td>\n",
              "      <td>CONFIRMED</td>\n",
              "      <td>2.52559</td>\n",
              "      <td>0.701</td>\n",
              "      <td>1.65450</td>\n",
              "      <td>603.3</td>\n",
              "      <td>0.02406</td>\n",
              "      <td>1.98635</td>\n",
              "      <td>2.75</td>\n",
              "      <td>0.0374</td>\n",
              "      <td>85.41</td>\n",
              "      <td>1406.0</td>\n",
              "      <td>926.16</td>\n",
              "      <td>8.750</td>\n",
              "      <td>4.74994</td>\n",
              "      <td>33.19190</td>\n",
              "      <td>40.9</td>\n",
              "      <td>6031.0</td>\n",
              "      <td>4.438</td>\n",
              "      <td>0.07</td>\n",
              "      <td>1.046</td>\n",
              "      <td>1.095</td>\n",
              "      <td>15.509</td>\n",
              "      <td>16.015</td>\n",
              "      <td>15.468</td>\n",
              "      <td>15.292</td>\n",
              "      <td>15.241</td>\n",
              "      <td>14.366</td>\n",
              "      <td>14.064</td>\n",
              "      <td>13.952</td>\n",
              "      <td>0.733</td>\n",
              "      <td>19.25033</td>\n",
              "      <td>48.22626</td>\n",
              "      <td>-0.010</td>\n",
              "      <td>0.230</td>\n",
              "      <td>0.00008</td>\n",
              "      <td>-0.00007</td>\n",
              "      <td>0.030</td>\n",
              "      <td>-0.090</td>\n",
              "      <td>0.100</td>\n",
              "      <td>0.070</td>\n",
              "      <td>0.020</td>\n",
              "      <td>0.070</td>\n",
              "    </tr>\n",
              "    <tr>\n",
              "      <th>4</th>\n",
              "      <td>K00114.01</td>\n",
              "      <td>FALSE POSITIVE</td>\n",
              "      <td>7.36179</td>\n",
              "      <td>1.169</td>\n",
              "      <td>5.02200</td>\n",
              "      <td>233.7</td>\n",
              "      <td>0.18339</td>\n",
              "      <td>0.00485</td>\n",
              "      <td>39.21</td>\n",
              "      <td>0.0820</td>\n",
              "      <td>60.92</td>\n",
              "      <td>1342.0</td>\n",
              "      <td>767.22</td>\n",
              "      <td>2.400</td>\n",
              "      <td>10.96468</td>\n",
              "      <td>46.15308</td>\n",
              "      <td>47.7</td>\n",
              "      <td>6227.0</td>\n",
              "      <td>3.986</td>\n",
              "      <td>0.00</td>\n",
              "      <td>1.958</td>\n",
              "      <td>1.358</td>\n",
              "      <td>12.660</td>\n",
              "      <td>12.999</td>\n",
              "      <td>12.609</td>\n",
              "      <td>12.515</td>\n",
              "      <td>12.480</td>\n",
              "      <td>11.659</td>\n",
              "      <td>11.415</td>\n",
              "      <td>11.396</td>\n",
              "      <td>0.000</td>\n",
              "      <td>19.92395</td>\n",
              "      <td>42.15826</td>\n",
              "      <td>-13.450</td>\n",
              "      <td>24.090</td>\n",
              "      <td>0.00303</td>\n",
              "      <td>-0.00555</td>\n",
              "      <td>-4.506</td>\n",
              "      <td>7.710</td>\n",
              "      <td>8.930</td>\n",
              "      <td>-4.537</td>\n",
              "      <td>7.713</td>\n",
              "      <td>8.948</td>\n",
              "    </tr>\n",
              "  </tbody>\n",
              "</table>\n",
              "</div>"
            ],
            "text/plain": [
              "  kepoi_name koi_disposition  ...  koi_dikco_mdec  koi_dikco_msky\n",
              "0  K00752.01       CONFIRMED  ...           0.310           0.320\n",
              "1  K00752.02       CONFIRMED  ...           0.120           0.500\n",
              "2  K00754.01  FALSE POSITIVE  ...           0.099           0.276\n",
              "3  K00755.01       CONFIRMED  ...           0.020           0.070\n",
              "4  K00114.01  FALSE POSITIVE  ...           7.713           8.948\n",
              "\n",
              "[5 rows x 43 columns]"
            ]
          },
          "metadata": {
            "tags": []
          },
          "execution_count": 3
        }
      ]
    },
    {
      "cell_type": "code",
      "metadata": {
        "colab": {
          "base_uri": "https://localhost:8080/",
          "height": 223
        },
        "id": "Mp0QMc0vD2Ag",
        "outputId": "f1701ca4-a2e8-4f0d-bee5-319c1b58c871"
      },
      "source": [
        "# Deletar a coluna \"kepoi_name\" e transformar a coluna \"koi_disposition\" em binário\n",
        "df.drop(columns=['kepoi_name'], inplace=True)\n",
        "df['koi_disposition'] = df['koi_disposition'].replace({'CONFIRMED': 1, 'FALSE POSITIVE': 0})\n",
        "df.head()"
      ],
      "execution_count": null,
      "outputs": [
        {
          "output_type": "execute_result",
          "data": {
            "text/html": [
              "<div>\n",
              "<style scoped>\n",
              "    .dataframe tbody tr th:only-of-type {\n",
              "        vertical-align: middle;\n",
              "    }\n",
              "\n",
              "    .dataframe tbody tr th {\n",
              "        vertical-align: top;\n",
              "    }\n",
              "\n",
              "    .dataframe thead th {\n",
              "        text-align: right;\n",
              "    }\n",
              "</style>\n",
              "<table border=\"1\" class=\"dataframe\">\n",
              "  <thead>\n",
              "    <tr style=\"text-align: right;\">\n",
              "      <th></th>\n",
              "      <th>koi_disposition</th>\n",
              "      <th>koi_period</th>\n",
              "      <th>koi_impact</th>\n",
              "      <th>koi_duration</th>\n",
              "      <th>koi_depth</th>\n",
              "      <th>koi_ror</th>\n",
              "      <th>koi_srho</th>\n",
              "      <th>koi_prad</th>\n",
              "      <th>koi_sma</th>\n",
              "      <th>koi_incl</th>\n",
              "      <th>koi_teq</th>\n",
              "      <th>koi_insol</th>\n",
              "      <th>koi_dor</th>\n",
              "      <th>koi_max_sngle_ev</th>\n",
              "      <th>koi_max_mult_ev</th>\n",
              "      <th>koi_model_snr</th>\n",
              "      <th>koi_steff</th>\n",
              "      <th>koi_slogg</th>\n",
              "      <th>koi_smet</th>\n",
              "      <th>koi_srad</th>\n",
              "      <th>koi_smass</th>\n",
              "      <th>koi_kepmag</th>\n",
              "      <th>koi_gmag</th>\n",
              "      <th>koi_rmag</th>\n",
              "      <th>koi_imag</th>\n",
              "      <th>koi_zmag</th>\n",
              "      <th>koi_jmag</th>\n",
              "      <th>koi_hmag</th>\n",
              "      <th>koi_kmag</th>\n",
              "      <th>koi_fwm_stat_sig</th>\n",
              "      <th>koi_fwm_sra</th>\n",
              "      <th>koi_fwm_sdec</th>\n",
              "      <th>koi_fwm_srao</th>\n",
              "      <th>koi_fwm_sdeco</th>\n",
              "      <th>koi_fwm_prao</th>\n",
              "      <th>koi_fwm_pdeco</th>\n",
              "      <th>koi_dicco_mra</th>\n",
              "      <th>koi_dicco_mdec</th>\n",
              "      <th>koi_dicco_msky</th>\n",
              "      <th>koi_dikco_mra</th>\n",
              "      <th>koi_dikco_mdec</th>\n",
              "      <th>koi_dikco_msky</th>\n",
              "    </tr>\n",
              "  </thead>\n",
              "  <tbody>\n",
              "    <tr>\n",
              "      <th>0</th>\n",
              "      <td>1</td>\n",
              "      <td>9.48804</td>\n",
              "      <td>0.146</td>\n",
              "      <td>2.95750</td>\n",
              "      <td>615.8</td>\n",
              "      <td>0.02234</td>\n",
              "      <td>3.20796</td>\n",
              "      <td>2.26</td>\n",
              "      <td>0.0853</td>\n",
              "      <td>89.66</td>\n",
              "      <td>793.0</td>\n",
              "      <td>93.59</td>\n",
              "      <td>24.810</td>\n",
              "      <td>5.13585</td>\n",
              "      <td>28.47082</td>\n",
              "      <td>35.8</td>\n",
              "      <td>5455.0</td>\n",
              "      <td>4.467</td>\n",
              "      <td>0.14</td>\n",
              "      <td>0.927</td>\n",
              "      <td>0.919</td>\n",
              "      <td>15.347</td>\n",
              "      <td>15.890</td>\n",
              "      <td>15.270</td>\n",
              "      <td>15.114</td>\n",
              "      <td>15.006</td>\n",
              "      <td>14.082</td>\n",
              "      <td>13.751</td>\n",
              "      <td>13.648</td>\n",
              "      <td>0.002</td>\n",
              "      <td>19.46229</td>\n",
              "      <td>48.14191</td>\n",
              "      <td>0.430</td>\n",
              "      <td>0.940</td>\n",
              "      <td>-0.00020</td>\n",
              "      <td>-0.00055</td>\n",
              "      <td>-0.010</td>\n",
              "      <td>0.200</td>\n",
              "      <td>0.200</td>\n",
              "      <td>0.080</td>\n",
              "      <td>0.310</td>\n",
              "      <td>0.320</td>\n",
              "    </tr>\n",
              "    <tr>\n",
              "      <th>1</th>\n",
              "      <td>1</td>\n",
              "      <td>54.41838</td>\n",
              "      <td>0.586</td>\n",
              "      <td>4.50700</td>\n",
              "      <td>874.8</td>\n",
              "      <td>0.02795</td>\n",
              "      <td>3.02368</td>\n",
              "      <td>2.83</td>\n",
              "      <td>0.2734</td>\n",
              "      <td>89.57</td>\n",
              "      <td>443.0</td>\n",
              "      <td>9.11</td>\n",
              "      <td>77.900</td>\n",
              "      <td>7.02767</td>\n",
              "      <td>20.10951</td>\n",
              "      <td>25.8</td>\n",
              "      <td>5455.0</td>\n",
              "      <td>4.467</td>\n",
              "      <td>0.14</td>\n",
              "      <td>0.927</td>\n",
              "      <td>0.919</td>\n",
              "      <td>15.347</td>\n",
              "      <td>15.890</td>\n",
              "      <td>15.270</td>\n",
              "      <td>15.114</td>\n",
              "      <td>15.006</td>\n",
              "      <td>14.082</td>\n",
              "      <td>13.751</td>\n",
              "      <td>13.648</td>\n",
              "      <td>0.003</td>\n",
              "      <td>19.46226</td>\n",
              "      <td>48.14199</td>\n",
              "      <td>-0.630</td>\n",
              "      <td>1.230</td>\n",
              "      <td>0.00066</td>\n",
              "      <td>-0.00105</td>\n",
              "      <td>0.390</td>\n",
              "      <td>0.000</td>\n",
              "      <td>0.390</td>\n",
              "      <td>0.490</td>\n",
              "      <td>0.120</td>\n",
              "      <td>0.500</td>\n",
              "    </tr>\n",
              "    <tr>\n",
              "      <th>2</th>\n",
              "      <td>0</td>\n",
              "      <td>1.73695</td>\n",
              "      <td>1.276</td>\n",
              "      <td>2.40641</td>\n",
              "      <td>8079.2</td>\n",
              "      <td>0.38739</td>\n",
              "      <td>0.22080</td>\n",
              "      <td>33.46</td>\n",
              "      <td>0.0267</td>\n",
              "      <td>67.09</td>\n",
              "      <td>1395.0</td>\n",
              "      <td>891.96</td>\n",
              "      <td>3.278</td>\n",
              "      <td>39.06655</td>\n",
              "      <td>541.89510</td>\n",
              "      <td>505.6</td>\n",
              "      <td>5805.0</td>\n",
              "      <td>4.564</td>\n",
              "      <td>-0.52</td>\n",
              "      <td>0.791</td>\n",
              "      <td>0.836</td>\n",
              "      <td>15.597</td>\n",
              "      <td>16.100</td>\n",
              "      <td>15.554</td>\n",
              "      <td>15.382</td>\n",
              "      <td>15.266</td>\n",
              "      <td>14.326</td>\n",
              "      <td>13.911</td>\n",
              "      <td>13.809</td>\n",
              "      <td>0.000</td>\n",
              "      <td>19.03564</td>\n",
              "      <td>48.28521</td>\n",
              "      <td>-0.111</td>\n",
              "      <td>0.002</td>\n",
              "      <td>0.00302</td>\n",
              "      <td>-0.00142</td>\n",
              "      <td>-0.249</td>\n",
              "      <td>0.147</td>\n",
              "      <td>0.289</td>\n",
              "      <td>-0.257</td>\n",
              "      <td>0.099</td>\n",
              "      <td>0.276</td>\n",
              "    </tr>\n",
              "    <tr>\n",
              "      <th>3</th>\n",
              "      <td>1</td>\n",
              "      <td>2.52559</td>\n",
              "      <td>0.701</td>\n",
              "      <td>1.65450</td>\n",
              "      <td>603.3</td>\n",
              "      <td>0.02406</td>\n",
              "      <td>1.98635</td>\n",
              "      <td>2.75</td>\n",
              "      <td>0.0374</td>\n",
              "      <td>85.41</td>\n",
              "      <td>1406.0</td>\n",
              "      <td>926.16</td>\n",
              "      <td>8.750</td>\n",
              "      <td>4.74994</td>\n",
              "      <td>33.19190</td>\n",
              "      <td>40.9</td>\n",
              "      <td>6031.0</td>\n",
              "      <td>4.438</td>\n",
              "      <td>0.07</td>\n",
              "      <td>1.046</td>\n",
              "      <td>1.095</td>\n",
              "      <td>15.509</td>\n",
              "      <td>16.015</td>\n",
              "      <td>15.468</td>\n",
              "      <td>15.292</td>\n",
              "      <td>15.241</td>\n",
              "      <td>14.366</td>\n",
              "      <td>14.064</td>\n",
              "      <td>13.952</td>\n",
              "      <td>0.733</td>\n",
              "      <td>19.25033</td>\n",
              "      <td>48.22626</td>\n",
              "      <td>-0.010</td>\n",
              "      <td>0.230</td>\n",
              "      <td>0.00008</td>\n",
              "      <td>-0.00007</td>\n",
              "      <td>0.030</td>\n",
              "      <td>-0.090</td>\n",
              "      <td>0.100</td>\n",
              "      <td>0.070</td>\n",
              "      <td>0.020</td>\n",
              "      <td>0.070</td>\n",
              "    </tr>\n",
              "    <tr>\n",
              "      <th>4</th>\n",
              "      <td>0</td>\n",
              "      <td>7.36179</td>\n",
              "      <td>1.169</td>\n",
              "      <td>5.02200</td>\n",
              "      <td>233.7</td>\n",
              "      <td>0.18339</td>\n",
              "      <td>0.00485</td>\n",
              "      <td>39.21</td>\n",
              "      <td>0.0820</td>\n",
              "      <td>60.92</td>\n",
              "      <td>1342.0</td>\n",
              "      <td>767.22</td>\n",
              "      <td>2.400</td>\n",
              "      <td>10.96468</td>\n",
              "      <td>46.15308</td>\n",
              "      <td>47.7</td>\n",
              "      <td>6227.0</td>\n",
              "      <td>3.986</td>\n",
              "      <td>0.00</td>\n",
              "      <td>1.958</td>\n",
              "      <td>1.358</td>\n",
              "      <td>12.660</td>\n",
              "      <td>12.999</td>\n",
              "      <td>12.609</td>\n",
              "      <td>12.515</td>\n",
              "      <td>12.480</td>\n",
              "      <td>11.659</td>\n",
              "      <td>11.415</td>\n",
              "      <td>11.396</td>\n",
              "      <td>0.000</td>\n",
              "      <td>19.92395</td>\n",
              "      <td>42.15826</td>\n",
              "      <td>-13.450</td>\n",
              "      <td>24.090</td>\n",
              "      <td>0.00303</td>\n",
              "      <td>-0.00555</td>\n",
              "      <td>-4.506</td>\n",
              "      <td>7.710</td>\n",
              "      <td>8.930</td>\n",
              "      <td>-4.537</td>\n",
              "      <td>7.713</td>\n",
              "      <td>8.948</td>\n",
              "    </tr>\n",
              "  </tbody>\n",
              "</table>\n",
              "</div>"
            ],
            "text/plain": [
              "   koi_disposition  koi_period  ...  koi_dikco_mdec  koi_dikco_msky\n",
              "0                1     9.48804  ...           0.310           0.320\n",
              "1                1    54.41838  ...           0.120           0.500\n",
              "2                0     1.73695  ...           0.099           0.276\n",
              "3                1     2.52559  ...           0.020           0.070\n",
              "4                0     7.36179  ...           7.713           8.948\n",
              "\n",
              "[5 rows x 42 columns]"
            ]
          },
          "metadata": {
            "tags": []
          },
          "execution_count": 4
        }
      ]
    },
    {
      "cell_type": "code",
      "metadata": {
        "id": "mGS30eprFgDD"
      },
      "source": [
        "# Criar a matriz com as features e o vetor com a classe target\n",
        "X = df.drop('koi_disposition', axis = 1)\n",
        "y = df['koi_disposition']  \n",
        "\n",
        "# Dividir a base em Treino e Teste\n",
        "from sklearn.model_selection import train_test_split\n",
        "X_train, X_test, y_train, y_test = train_test_split(X, y, test_size=0.30, random_state=26)"
      ],
      "execution_count": null,
      "outputs": []
    },
    {
      "cell_type": "markdown",
      "metadata": {
        "id": "F2L7A7TasQMU"
      },
      "source": [
        "É necessário controlar o estado de aleatoriedade para termos controle sobre o experimento."
      ]
    },
    {
      "cell_type": "code",
      "metadata": {
        "id": "yvL6m1_zG7XZ"
      },
      "source": [
        "# Criar Scaler para normalizar os dados (criar no treino e aplicar no conjunto de teste)\n",
        "from sklearn.preprocessing import MinMaxScaler\n",
        "escala = MinMaxScaler()\n",
        "X_train = escala.fit_transform(X_train)\n",
        "X_test = escala.transform(X_test)"
      ],
      "execution_count": null,
      "outputs": []
    },
    {
      "cell_type": "markdown",
      "metadata": {
        "id": "RBs7zORPIYnP"
      },
      "source": [
        "## Ajuste dos Modelos"
      ]
    },
    {
      "cell_type": "markdown",
      "metadata": {
        "id": "dhgDpR0oK4Ed"
      },
      "source": [
        "**Baseline**"
      ]
    },
    {
      "cell_type": "code",
      "metadata": {
        "colab": {
          "base_uri": "https://localhost:8080/"
        },
        "id": "p4prpATSIfYt",
        "outputId": "87537c03-245e-4472-cbfc-db2404adf0de"
      },
      "source": [
        "# Baseline com o modelo Naive Bayes\n",
        "from sklearn.naive_bayes import GaussianNB\n",
        "clf_NaiveBayes = GaussianNB()\n",
        "clf_NaiveBayes.fit(X_train, y_train)\n",
        "y_pred = clf_NaiveBayes.predict(X_test)\n",
        "\n",
        "# Avaliando o baseline\n",
        "from sklearn.metrics import accuracy_score\n",
        "accuracy_score(y_test, y_pred)*100"
      ],
      "execution_count": null,
      "outputs": [
        {
          "output_type": "execute_result",
          "data": {
            "text/plain": [
              "91.4798206278027"
            ]
          },
          "metadata": {
            "tags": []
          },
          "execution_count": 38
        }
      ]
    },
    {
      "cell_type": "markdown",
      "metadata": {
        "id": "-dm9SX9GJYlg"
      },
      "source": [
        "O modelo utilizado como baseline, ou seja, sem nenhum ajuste de hipeparâmetros, conseguiu uma acurácia de **91%**. Esse será nosso referencial para avaliar a qualidade de ajuste dos demais modelos."
      ]
    },
    {
      "cell_type": "markdown",
      "metadata": {
        "id": "wvFp3qrWK-7E"
      },
      "source": [
        "**Decision Tree**: Testar diferentes alturas de árvore."
      ]
    },
    {
      "cell_type": "code",
      "metadata": {
        "colab": {
          "base_uri": "https://localhost:8080/"
        },
        "id": "XChXkBlJJq8h",
        "outputId": "2f275af2-83c0-408b-9961-9fc909b357fb"
      },
      "source": [
        "# Fazer validação cruzada com Decision Tree\n",
        "from sklearn.model_selection import GridSearchCV\n",
        "from sklearn.tree import DecisionTreeClassifier\n",
        "\n",
        "clf_tree = DecisionTreeClassifier()\n",
        "parametros = {'max_depth':[3, 5, 7, 9, 10]}\n",
        "grid_tree = GridSearchCV(estimator=clf_tree, param_grid=parametros, scoring='accuracy', cv=5)\n",
        "\n",
        "# Determinação dos melhores parâmetros\n",
        "grid_tree.fit(X_train, y_train)\n",
        "print(pd.DataFrame(grid_tree.cv_results_)[['rank_test_score','mean_test_score']].sort_values('rank_test_score').head(5))\n",
        "print(f'Melhores parâmetros: {grid_tree.best_params_}')"
      ],
      "execution_count": null,
      "outputs": [
        {
          "output_type": "stream",
          "text": [
            "   rank_test_score  mean_test_score\n",
            "1                1         0.954957\n",
            "2                2         0.954134\n",
            "3                3         0.951387\n",
            "4                4         0.948641\n",
            "0                5         0.934906\n",
            "Melhores parâmetros: {'max_depth': 5}\n"
          ],
          "name": "stdout"
        }
      ]
    },
    {
      "cell_type": "markdown",
      "metadata": {
        "id": "OJYqAUGPgOB5"
      },
      "source": [
        "Considerando diferentes tamanhos de árvore, ou regras de decisão, podemos avaliar que não existe um ganho muito significativo em desempenho entre diferentes tamanhos de árvore. Este comportamento pode estar relacionado ao fato de algumas features possibilitarem um alto ganho de informação, permitindo, assim, uma classificação satisfatória (acima do baseline) com árvores menores. A árvore que apresentou melhor desempenho é que a quem tem altura 5."
      ]
    },
    {
      "cell_type": "markdown",
      "metadata": {
        "id": "dR1Y4uyHhJr3"
      },
      "source": [
        "**SVM**: Avaliar os kernels linear, sigmoid, polinomial e RBF."
      ]
    },
    {
      "cell_type": "code",
      "metadata": {
        "colab": {
          "base_uri": "https://localhost:8080/"
        },
        "id": "Oyu2wDPIhtPG",
        "outputId": "57de23f7-8592-4e52-ed9b-f61604f9040e"
      },
      "source": [
        "# Fazer validação cruzada com SVM\n",
        "from sklearn.svm import SVC\n",
        "\n",
        "clf_svm = SVC()\n",
        "parametros = {'kernel':['linear', 'sigmoid', 'poly', 'rbf']}\n",
        "grid_svm = GridSearchCV(estimator=clf_svm, param_grid=parametros, scoring='accuracy', cv=5)\n",
        "\n",
        "# Determinação dos melhores parâmetros\n",
        "grid_svm.fit(X_train, y_train)\n",
        "print(pd.DataFrame(grid_svm.cv_results_)[['rank_test_score','mean_test_score']].sort_values('rank_test_score').head(5))\n",
        "print(f'Melhores parâmetros: {grid_svm.best_params_}')"
      ],
      "execution_count": null,
      "outputs": [
        {
          "output_type": "stream",
          "text": [
            "   rank_test_score  mean_test_score\n",
            "2                1         0.916508\n",
            "0                2         0.901951\n",
            "3                3         0.889320\n",
            "1                4         0.525684\n",
            "Melhores parâmetros: {'kernel': 'poly'}\n"
          ],
          "name": "stdout"
        }
      ]
    },
    {
      "cell_type": "markdown",
      "metadata": {
        "id": "5XEqlgzXkynK"
      },
      "source": [
        "O melhor ajuste ocorreu com o kernel Polinomial, mas, ainda assim, não foi superior ao baseline. "
      ]
    },
    {
      "cell_type": "markdown",
      "metadata": {
        "id": "bGKgxCfDk_0H"
      },
      "source": [
        "**k-NN**: Variar o número k de vizinhos."
      ]
    },
    {
      "cell_type": "code",
      "metadata": {
        "colab": {
          "base_uri": "https://localhost:8080/"
        },
        "id": "9HrUaUOGlLPL",
        "outputId": "00d8f4fe-d1a2-4be1-c849-aac4a2ee3932"
      },
      "source": [
        "# Fazer validação cruzada com KNN\n",
        "from sklearn.neighbors import KNeighborsClassifier\n",
        "\n",
        "clf_knn = KNeighborsClassifier()\n",
        "parametros = {'n_neighbors':[2, 3, 5, 6, 7, 8, 9, 10, 12, 15, 20, 50]}\n",
        "grid_knn = GridSearchCV(estimator=clf_knn, param_grid=parametros, scoring='accuracy', cv=5)\n",
        "\n",
        "# Determinação dos melhores parâmetros\n",
        "grid_knn.fit(X_train, y_train)\n",
        "print(pd.DataFrame(grid_knn.cv_results_)[['rank_test_score','mean_test_score']].sort_values('rank_test_score').head(5))\n",
        "print(f'Melhores parâmetros: {grid_knn.best_params_}')"
      ],
      "execution_count": null,
      "outputs": [
        {
          "output_type": "stream",
          "text": [
            "    rank_test_score  mean_test_score\n",
            "3                 1         0.837683\n",
            "5                 2         0.836860\n",
            "8                 3         0.834387\n",
            "7                 4         0.833564\n",
            "10                5         0.829997\n",
            "Melhores parâmetros: {'n_neighbors': 6}\n"
          ],
          "name": "stdout"
        }
      ]
    },
    {
      "cell_type": "markdown",
      "metadata": {
        "id": "Uz6G_brXmjjk"
      },
      "source": [
        "O modelo que melhor ajustou os dados é aquele que utiliza 6 vizinhos. Mas, ainda assim, o KNN não é um bom modelo para este problema em particular, já que, mesmo com ajuste de parâmetros, apresentou desempenho abaixo do baseline."
      ]
    },
    {
      "cell_type": "markdown",
      "metadata": {
        "id": "pUB_TdJXm0sC"
      },
      "source": [
        "**Random Forest**: Variar o número de árvores."
      ]
    },
    {
      "cell_type": "code",
      "metadata": {
        "colab": {
          "base_uri": "https://localhost:8080/"
        },
        "id": "HB7o0xepnjkw",
        "outputId": "7cc19b2c-e566-44de-843f-bce0ac439043"
      },
      "source": [
        "# Fazer validação cruzada com Random Forest\n",
        "from sklearn.ensemble import RandomForestClassifier\n",
        "\n",
        "clf_rf = RandomForestClassifier()\n",
        "parametros = {'n_estimators':[3, 5, 8, 12, 15, 20, 50, 100, 150]}\n",
        "grid_rf = GridSearchCV(estimator=clf_rf, param_grid=parametros, scoring='accuracy', cv=5)\n",
        "\n",
        "# Determinação dos melhores parâmetros\n",
        "grid_rf.fit(X_train, y_train)\n",
        "print(pd.DataFrame(grid_rf.cv_results_)[['rank_test_score','mean_test_score']].sort_values('rank_test_score').head(5))\n",
        "print(f'Melhores parâmetros: {grid_rf.best_params_}')"
      ],
      "execution_count": null,
      "outputs": [
        {
          "output_type": "stream",
          "text": [
            "   rank_test_score  mean_test_score\n",
            "8                1         0.967317\n",
            "6                2         0.967041\n",
            "4                3         0.966768\n",
            "7                4         0.966494\n",
            "5                5         0.964020\n",
            "Melhores parâmetros: {'n_estimators': 150}\n"
          ],
          "name": "stdout"
        }
      ]
    },
    {
      "cell_type": "markdown",
      "metadata": {
        "id": "7z-MWbjYoXsq"
      },
      "source": [
        "O modelo Random Forest apresentou desempenho acima do baseline. O melhor modelo foi o construído com 150 árvores. Esse resultado reforça o desempenho encontrado com Decision Tree, o que caracteriza esse tipo de modelo mais adequado para o problema em questão."
      ]
    },
    {
      "cell_type": "markdown",
      "metadata": {
        "id": "gg0d6h1Hos6h"
      },
      "source": [
        "**Gradient Tree Boosting**: Variar o número de iterações."
      ]
    },
    {
      "cell_type": "code",
      "metadata": {
        "colab": {
          "base_uri": "https://localhost:8080/"
        },
        "id": "QuV4HN6ioscc",
        "outputId": "ccc1a5fa-85ab-4f3a-e499-0919c5a9e2ad"
      },
      "source": [
        "# Fazer validação cruzada com Gradient Tree Boosting\n",
        "from sklearn.ensemble import GradientBoostingClassifier\n",
        "\n",
        "clf_gtb = GradientBoostingClassifier()\n",
        "parametros = {'n_iter_no_change':[3, 5, 8, 12, 15, 20, 50]}\n",
        "grid_gtb = GridSearchCV(estimator=clf_gtb, param_grid=parametros, scoring='accuracy', cv=5)\n",
        "\n",
        "# Determinação dos melhores parâmetros\n",
        "grid_gtb.fit(X_train, y_train)\n",
        "print(pd.DataFrame(grid_gtb.cv_results_)[['rank_test_score','mean_test_score']].sort_values('rank_test_score').head(5))\n",
        "print(f'Melhores parâmetros: {grid_gtb.best_params_}')"
      ],
      "execution_count": null,
      "outputs": [
        {
          "output_type": "stream",
          "text": [
            "   rank_test_score  mean_test_score\n",
            "4                1         0.973358\n",
            "6                2         0.971162\n",
            "0                3         0.970611\n",
            "2                4         0.970337\n",
            "5                4         0.970337\n",
            "Melhores parâmetros: {'n_iter_no_change': 15}\n"
          ],
          "name": "stdout"
        }
      ]
    },
    {
      "cell_type": "markdown",
      "metadata": {
        "id": "KjterEQdszFU"
      },
      "source": [
        "O modelo Gradient Tree Boosting apresentou o melhor desempenho no experimento em questão. Foi aplicado early stop em 15 iterações, o que garantiu uma acurácia de **97%**."
      ]
    },
    {
      "cell_type": "markdown",
      "metadata": {
        "id": "PNnpNqmRtPPj"
      },
      "source": [
        "## Comparação entre os modelos"
      ]
    },
    {
      "cell_type": "markdown",
      "metadata": {
        "id": "nDZduZKltXMV"
      },
      "source": [
        "Agora que todos os modelos foram validados, será feita uma comparação das performances através de: **curva ROC**, **Precisão** e **Revocação** (precision e recall).\n"
      ]
    },
    {
      "cell_type": "code",
      "metadata": {
        "colab": {
          "base_uri": "https://localhost:8080/",
          "height": 346
        },
        "id": "TYVgxU0RutDU",
        "outputId": "f2eb82cb-167d-4441-a0a2-02eb86f66ae4"
      },
      "source": [
        "# Avaliação final do modelo Naive Bayes\n",
        "from sklearn import metrics \n",
        "y_nb = clf_NaiveBayes.predict(X_test)\n",
        "print(f'Precisão Naive Bayes: {metrics.precision_score(y_test, y_nb)}\\nRevocação Naive Bayes: {metrics.recall_score(y_test, y_nb)}\\n')\n",
        "metrics.plot_roc_curve(clf_NaiveBayes, X_test, y_test)"
      ],
      "execution_count": null,
      "outputs": [
        {
          "output_type": "stream",
          "text": [
            "Precisão Naive Bayes: 0.8354253835425384\n",
            "Revocação Naive Bayes: 0.9755700325732899\n",
            "\n"
          ],
          "name": "stdout"
        },
        {
          "output_type": "execute_result",
          "data": {
            "text/plain": [
              "<sklearn.metrics._plot.roc_curve.RocCurveDisplay at 0x7fac0344f650>"
            ]
          },
          "metadata": {
            "tags": []
          },
          "execution_count": 58
        },
        {
          "output_type": "display_data",
          "data": {
            "image/png": "[encoded data removed]",
            "text/plain": [
              "<Figure size 432x288 with 1 Axes>"
            ]
          },
          "metadata": {
            "tags": [],
            "needs_background": "light"
          }
        }
      ]
    },
    {
      "cell_type": "code",
      "metadata": {
        "colab": {
          "base_uri": "https://localhost:8080/",
          "height": 346
        },
        "id": "7xsvxJyrwA1v",
        "outputId": "28912005-0bdd-4486-eaca-4b74daf31df0"
      },
      "source": [
        "# Avaliação final do modelo Decision Tree\n",
        "final_tree = DecisionTreeClassifier(max_depth=5)\n",
        "final_tree.fit(X_train, y_train)\n",
        "y_dt = final_tree.predict(X_test)\n",
        "print(f'Precisão Decision Tree: {metrics.precision_score(y_test, y_dt)}\\nRevocação Decision Tree: {metrics.recall_score(y_test, y_dt)}\\n')\n",
        "metrics.plot_roc_curve(final_tree, X_test, y_test)"
      ],
      "execution_count": null,
      "outputs": [
        {
          "output_type": "stream",
          "text": [
            "Precisão Decision Tree: 0.9015384615384615\n",
            "Revocação Decision Tree: 0.9543973941368078\n",
            "\n"
          ],
          "name": "stdout"
        },
        {
          "output_type": "execute_result",
          "data": {
            "text/plain": [
              "<sklearn.metrics._plot.roc_curve.RocCurveDisplay at 0x7fac02f1d650>"
            ]
          },
          "metadata": {
            "tags": []
          },
          "execution_count": 61
        },
        {
          "output_type": "display_data",
          "data": {
            "image/png": "[encoded data removed]",
            "text/plain": [
              "<Figure size 432x288 with 1 Axes>"
            ]
          },
          "metadata": {
            "tags": [],
            "needs_background": "light"
          }
        }
      ]
    },
    {
      "cell_type": "code",
      "metadata": {
        "colab": {
          "base_uri": "https://localhost:8080/",
          "height": 346
        },
        "id": "LHPRgGjfxgfa",
        "outputId": "b5242dff-4dc1-4aae-e9f5-87f3eb5167f6"
      },
      "source": [
        "# Avaliação final do modelo SVM\n",
        "final_svm = SVC(kernel='poly')\n",
        "final_svm.fit(X_train, y_train)\n",
        "y_svm = final_svm.predict(X_test)\n",
        "print(f'Precisão SVM: {metrics.precision_score(y_test, y_svm)}\\nRevocação SVM: {metrics.recall_score(y_test, y_svm)}\\n')\n",
        "metrics.plot_roc_curve(final_svm, X_test, y_test)"
      ],
      "execution_count": null,
      "outputs": [
        {
          "output_type": "stream",
          "text": [
            "Precisão SVM: 0.8858447488584474\n",
            "Revocação SVM: 0.9478827361563518\n",
            "\n"
          ],
          "name": "stdout"
        },
        {
          "output_type": "execute_result",
          "data": {
            "text/plain": [
              "<sklearn.metrics._plot.roc_curve.RocCurveDisplay at 0x7fac0347c610>"
            ]
          },
          "metadata": {
            "tags": []
          },
          "execution_count": 62
        },
        {
          "output_type": "display_data",
          "data": {
            "image/png": "[encoded data removed]",
            "text/plain": [
              "<Figure size 432x288 with 1 Axes>"
            ]
          },
          "metadata": {
            "tags": [],
            "needs_background": "light"
          }
        }
      ]
    },
    {
      "cell_type": "code",
      "metadata": {
        "colab": {
          "base_uri": "https://localhost:8080/",
          "height": 346
        },
        "id": "Mx9JYcQJzehR",
        "outputId": "11899573-a1a0-40a7-c37d-e8f3906a1b3d"
      },
      "source": [
        "# Avaliação final do modelo KNN\n",
        "final_knn = KNeighborsClassifier(n_neighbors=6)\n",
        "final_knn.fit(X_train, y_train)\n",
        "y_knn = final_knn.predict(X_test)\n",
        "print(f'Precisão KNN: {metrics.precision_score(y_test, y_knn)}\\nRevocação KNN: {metrics.recall_score(y_test, y_knn)}\\n')\n",
        "metrics.plot_roc_curve(final_knn, X_test, y_test)"
      ],
      "execution_count": null,
      "outputs": [
        {
          "output_type": "stream",
          "text": [
            "Precisão KNN: 0.7782546494992847\n",
            "Revocação KNN: 0.8859934853420195\n",
            "\n"
          ],
          "name": "stdout"
        },
        {
          "output_type": "execute_result",
          "data": {
            "text/plain": [
              "<sklearn.metrics._plot.roc_curve.RocCurveDisplay at 0x7fac02dd5490>"
            ]
          },
          "metadata": {
            "tags": []
          },
          "execution_count": 63
        },
        {
          "output_type": "display_data",
          "data": {
            "image/png": "[encoded data removed]",
            "text/plain": [
              "<Figure size 432x288 with 1 Axes>"
            ]
          },
          "metadata": {
            "tags": [],
            "needs_background": "light"
          }
        }
      ]
    },
    {
      "cell_type": "code",
      "metadata": {
        "colab": {
          "base_uri": "https://localhost:8080/",
          "height": 346
        },
        "id": "q0Aqr5z40Ijz",
        "outputId": "92766b0e-0e0a-482f-c43a-d50368a4895f"
      },
      "source": [
        "# Avaliação final do modelo Random Forest\n",
        "final_rf = RandomForestClassifier(n_estimators=150)\n",
        "final_rf.fit(X_train, y_train)\n",
        "y_rf = final_rf.predict(X_test)\n",
        "print(f'Precisão Random Forest: {metrics.precision_score(y_test, y_rf)}\\nRevocação Random Forest: {metrics.recall_score(y_test, y_rf)}\\n')\n",
        "metrics.plot_roc_curve(final_rf, X_test, y_test)"
      ],
      "execution_count": null,
      "outputs": [
        {
          "output_type": "stream",
          "text": [
            "Precisão Random Forest: 0.955810147299509\n",
            "Revocação Random Forest: 0.9511400651465798\n",
            "\n"
          ],
          "name": "stdout"
        },
        {
          "output_type": "execute_result",
          "data": {
            "text/plain": [
              "<sklearn.metrics._plot.roc_curve.RocCurveDisplay at 0x7fac02d4b450>"
            ]
          },
          "metadata": {
            "tags": []
          },
          "execution_count": 64
        },
        {
          "output_type": "display_data",
          "data": {
            "image/png": "[encoded data removed]",
            "text/plain": [
              "<Figure size 432x288 with 1 Axes>"
            ]
          },
          "metadata": {
            "tags": [],
            "needs_background": "light"
          }
        }
      ]
    },
    {
      "cell_type": "code",
      "metadata": {
        "colab": {
          "base_uri": "https://localhost:8080/",
          "height": 346
        },
        "id": "e7chcaId03wk",
        "outputId": "906f3529-1190-4b62-dfec-ffae321ec9a4"
      },
      "source": [
        "# Avaliação final do modelo Gradient Tree Boosting\n",
        "final_gtb = GradientBoostingClassifier(n_iter_no_change=15)\n",
        "final_gtb.fit(X_train, y_train)\n",
        "y_gtb = final_gtb.predict(X_test)\n",
        "print(f'Precisão Gradient Tree Boosting: {metrics.precision_score(y_test, y_gtb)}\\nRevocação Gradient Tree Boosting: {metrics.recall_score(y_test, y_gtb)}\\n')\n",
        "metrics.plot_roc_curve(final_gtb, X_test, y_test)"
      ],
      "execution_count": null,
      "outputs": [
        {
          "output_type": "stream",
          "text": [
            "Precisão Gradient Tree Boosting: 0.9291338582677166\n",
            "Revocação Gradient Tree Boosting: 0.9609120521172638\n",
            "\n"
          ],
          "name": "stdout"
        },
        {
          "output_type": "execute_result",
          "data": {
            "text/plain": [
              "<sklearn.metrics._plot.roc_curve.RocCurveDisplay at 0x7fac02dad650>"
            ]
          },
          "metadata": {
            "tags": []
          },
          "execution_count": 65
        },
        {
          "output_type": "display_data",
          "data": {
            "image/png": "[encoded data removed]",
            "text/plain": [
              "<Figure size 432x288 with 1 Axes>"
            ]
          },
          "metadata": {
            "tags": [],
            "needs_background": "light"
          }
        }
      ]
    }
  ]
}